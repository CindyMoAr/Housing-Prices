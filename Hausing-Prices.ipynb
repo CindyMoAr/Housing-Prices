{
 "metadata": {
  "language_info": {
   "codemirror_mode": {
    "name": "ipython",
    "version": 3
   },
   "file_extension": ".py",
   "mimetype": "text/x-python",
   "name": "python",
   "nbconvert_exporter": "python",
   "pygments_lexer": "ipython3",
   "version": "3.7.9-final"
  },
  "orig_nbformat": 2,
  "kernelspec": {
   "name": "python3",
   "display_name": "Python 3"
  }
 },
 "nbformat": 4,
 "nbformat_minor": 2,
 "cells": [
  {
   "source": [
    "##### 1. Load and clean the data set university_towns.txt"
   ],
   "cell_type": "markdown",
   "metadata": {}
  },
  {
   "cell_type": "code",
   "execution_count": 1,
   "metadata": {},
   "outputs": [
    {
     "output_type": "execute_result",
     "data": {
      "text/plain": [
       "         State     RegionName\n",
       "1      Alabama         Auburn\n",
       "2      Alabama       Florence\n",
       "3      Alabama   Jacksonville\n",
       "4      Alabama     Livingston\n",
       "5      Alabama     Montevallo\n",
       "..         ...            ...\n",
       "561  Wisconsin    River Falls\n",
       "562  Wisconsin  Stevens Point\n",
       "563  Wisconsin       Waukesha\n",
       "564  Wisconsin     Whitewater\n",
       "566    Wyoming        Laramie\n",
       "\n",
       "[517 rows x 2 columns]"
      ],
      "text/html": "<div>\n<style scoped>\n    .dataframe tbody tr th:only-of-type {\n        vertical-align: middle;\n    }\n\n    .dataframe tbody tr th {\n        vertical-align: top;\n    }\n\n    .dataframe thead th {\n        text-align: right;\n    }\n</style>\n<table border=\"1\" class=\"dataframe\">\n  <thead>\n    <tr style=\"text-align: right;\">\n      <th></th>\n      <th>State</th>\n      <th>RegionName</th>\n    </tr>\n  </thead>\n  <tbody>\n    <tr>\n      <th>1</th>\n      <td>Alabama</td>\n      <td>Auburn</td>\n    </tr>\n    <tr>\n      <th>2</th>\n      <td>Alabama</td>\n      <td>Florence</td>\n    </tr>\n    <tr>\n      <th>3</th>\n      <td>Alabama</td>\n      <td>Jacksonville</td>\n    </tr>\n    <tr>\n      <th>4</th>\n      <td>Alabama</td>\n      <td>Livingston</td>\n    </tr>\n    <tr>\n      <th>5</th>\n      <td>Alabama</td>\n      <td>Montevallo</td>\n    </tr>\n    <tr>\n      <th>...</th>\n      <td>...</td>\n      <td>...</td>\n    </tr>\n    <tr>\n      <th>561</th>\n      <td>Wisconsin</td>\n      <td>River Falls</td>\n    </tr>\n    <tr>\n      <th>562</th>\n      <td>Wisconsin</td>\n      <td>Stevens Point</td>\n    </tr>\n    <tr>\n      <th>563</th>\n      <td>Wisconsin</td>\n      <td>Waukesha</td>\n    </tr>\n    <tr>\n      <th>564</th>\n      <td>Wisconsin</td>\n      <td>Whitewater</td>\n    </tr>\n    <tr>\n      <th>566</th>\n      <td>Wyoming</td>\n      <td>Laramie</td>\n    </tr>\n  </tbody>\n</table>\n<p>517 rows × 2 columns</p>\n</div>"
     },
     "metadata": {},
     "execution_count": 1
    }
   ],
   "source": [
    "import pandas as pd\n",
    "import numpy as np\n",
    "from scipy.stats import ttest_ind\n",
    " \n",
    "'''Returns a DataFrame of towns and the states they are in from the \n",
    "    university_towns.txt list. The format of the DataFrame should be:\n",
    "    DataFrame( [ [\"Michigan\", \"Ann Arbor\"], [\"Michigan\", \"Yipsilanti\"] ], \n",
    "    columns=[\"State\", \"RegionName\"]  )\n",
    "    \n",
    "    The following cleaning needs to be done:\n",
    "\n",
    "    1. For \"State\", removing characters from \"[\" to the end.\n",
    "    2. For \"RegionName\", when applicable, removing every character from \" (\" to the end.\n",
    "    3. Depending on how you read the data, you may need to remove newline character '\\n'. '''\n",
    "\n",
    "t = pd.read_csv('university_towns.txt', sep='/n', header=None).rename(columns={0:'State'})\n",
    "t.loc[~t['State'].str.contains(\"[edit]\", regex=False), 'RegionName'] = t['State']\n",
    "t.loc[t['State']==t['RegionName'],'State'] = np.nan\n",
    "t['State'] = (t['State'].str.replace(r'\\[.*','').fillna(method='ffill'))\n",
    "t['RegionName'] = t['RegionName'].str.replace(r'\\W*\\(.*','')\n",
    "university_towns = t.dropna()\n",
    "university_towns"
   ]
  },
  {
   "source": [
    "##### 2. Load and clean the data set gdplev.xls"
   ],
   "cell_type": "markdown",
   "metadata": {}
  },
  {
   "cell_type": "code",
   "execution_count": 2,
   "metadata": {},
   "outputs": [
    {
     "output_type": "execute_result",
     "data": {
      "text/plain": [
       "    Quarter      GDP\n",
       "0    1947q1    243.1\n",
       "1    1947q2    246.3\n",
       "2    1947q3    250.1\n",
       "3    1947q4    260.3\n",
       "4    1948q1    266.2\n",
       "..      ...      ...\n",
       "273  2015q2  17998.3\n",
       "274  2015q3  18141.9\n",
       "275  2015q4  18222.8\n",
       "276  2016q1  18281.6\n",
       "277  2016q2  18450.1\n",
       "\n",
       "[278 rows x 2 columns]"
      ],
      "text/html": "<div>\n<style scoped>\n    .dataframe tbody tr th:only-of-type {\n        vertical-align: middle;\n    }\n\n    .dataframe tbody tr th {\n        vertical-align: top;\n    }\n\n    .dataframe thead th {\n        text-align: right;\n    }\n</style>\n<table border=\"1\" class=\"dataframe\">\n  <thead>\n    <tr style=\"text-align: right;\">\n      <th></th>\n      <th>Quarter</th>\n      <th>GDP</th>\n    </tr>\n  </thead>\n  <tbody>\n    <tr>\n      <th>0</th>\n      <td>1947q1</td>\n      <td>243.1</td>\n    </tr>\n    <tr>\n      <th>1</th>\n      <td>1947q2</td>\n      <td>246.3</td>\n    </tr>\n    <tr>\n      <th>2</th>\n      <td>1947q3</td>\n      <td>250.1</td>\n    </tr>\n    <tr>\n      <th>3</th>\n      <td>1947q4</td>\n      <td>260.3</td>\n    </tr>\n    <tr>\n      <th>4</th>\n      <td>1948q1</td>\n      <td>266.2</td>\n    </tr>\n    <tr>\n      <th>...</th>\n      <td>...</td>\n      <td>...</td>\n    </tr>\n    <tr>\n      <th>273</th>\n      <td>2015q2</td>\n      <td>17998.3</td>\n    </tr>\n    <tr>\n      <th>274</th>\n      <td>2015q3</td>\n      <td>18141.9</td>\n    </tr>\n    <tr>\n      <th>275</th>\n      <td>2015q4</td>\n      <td>18222.8</td>\n    </tr>\n    <tr>\n      <th>276</th>\n      <td>2016q1</td>\n      <td>18281.6</td>\n    </tr>\n    <tr>\n      <th>277</th>\n      <td>2016q2</td>\n      <td>18450.1</td>\n    </tr>\n  </tbody>\n</table>\n<p>278 rows × 2 columns</p>\n</div>"
     },
     "metadata": {},
     "execution_count": 2
    }
   ],
   "source": [
    "GDP = (pd.read_excel('gdplev.xls', skiprows=7, usecols= [4,5], names = ['Quarter', 'GDP']))\n",
    "GDP"
   ]
  },
  {
   "source": [
    "##### 3. Returns the year and quarter of the recession start time as a string value in a format such as 2005q3"
   ],
   "cell_type": "markdown",
   "metadata": {}
  },
  {
   "cell_type": "code",
   "execution_count": 32,
   "metadata": {},
   "outputs": [
    {
     "output_type": "execute_result",
     "data": {
      "text/plain": [
       "'2008q3'"
      ]
     },
     "metadata": {},
     "execution_count": 32
    }
   ],
   "source": [
    "#A recession is defined as starting with two consecutive quarters of GDP decline, and ending with two consecutive quarters of GDP growth.\n",
    "#For this assignment, only look at GDP data from the first quarter of 2000 onward.\n",
    "GDP2000 = GDP[GDP['Quarter']>'2000']\n",
    "rec_start_df = GDP2000[(GDP2000['GDP'] > GDP2000['GDP'].shift(-1)) & (GDP2000['GDP'].shift(-1) > GDP2000['GDP'].shift(-2))]\n",
    "rec_start = rec_start_df.iloc[0,0]\n",
    "rec_start\n"
   ]
  },
  {
   "source": [
    "##### 4. Returns the year and quarter of the recession end time as a string value in a format such as 2005q3"
   ],
   "cell_type": "markdown",
   "metadata": {}
  },
  {
   "cell_type": "code",
   "execution_count": 4,
   "metadata": {},
   "outputs": [
    {
     "output_type": "execute_result",
     "data": {
      "text/plain": [
       "'2009q2'"
      ]
     },
     "metadata": {},
     "execution_count": 4
    }
   ],
   "source": [
    "GDPStart = GDP[GDP['Quarter']>= rec_start]\n",
    "rec_end_df = GDPStart[(GDPStart['GDP'] < GDPStart['GDP'].shift(-1)) & (GDPStart['GDP'].shift(-1) < GDPStart['GDP'].shift(-2))]  \n",
    "rec_end = rec_end_df.iloc[0,0]   \n",
    "rec_end\n"
   ]
  },
  {
   "source": [
    "##### 5. Returns the year and quarter of the recession bottom time as a string value in a format such as 2005q3"
   ],
   "cell_type": "markdown",
   "metadata": {}
  },
  {
   "cell_type": "code",
   "execution_count": 5,
   "metadata": {},
   "outputs": [
    {
     "output_type": "execute_result",
     "data": {
      "text/plain": [
       "'2009q2'"
      ]
     },
     "metadata": {},
     "execution_count": 5
    }
   ],
   "source": [
    "# A recession bottom is the quarter within a recession which had the lowest GDP.\n",
    "GDPMid = GDP[(GDP['Quarter']>= rec_start) & (GDP['Quarter']<= rec_end)]\n",
    "rec_bottom_df = GDPMid[GDPMid['GDP']==GDPMid['GDP'].min()]\n",
    "rec_bottom = rec_bottom_df.iloc[0,0]\n",
    "rec_bottom\n"
   ]
  },
  {
   "source": [
    "##### 6. Plot the data"
   ],
   "cell_type": "markdown",
   "metadata": {}
  },
  {
   "cell_type": "code",
   "execution_count": 6,
   "metadata": {},
   "outputs": [
    {
     "output_type": "execute_result",
     "data": {
      "text/plain": [
       "<AxesSubplot:xlabel='Quarter'>"
      ]
     },
     "metadata": {},
     "execution_count": 6
    },
    {
     "output_type": "display_data",
     "data": {
      "text/plain": "<Figure size 432x288 with 1 Axes>",
      "image/svg+xml": "<?xml version=\"1.0\" encoding=\"utf-8\" standalone=\"no\"?>\r\n<!DOCTYPE svg PUBLIC \"-//W3C//DTD SVG 1.1//EN\"\r\n  \"http://www.w3.org/Graphics/SVG/1.1/DTD/svg11.dtd\">\r\n<!-- Created with matplotlib (https://matplotlib.org/) -->\r\n<svg height=\"262.19625pt\" version=\"1.1\" viewBox=\"0 0 391.874787 262.19625\" width=\"391.874787pt\" xmlns=\"http://www.w3.org/2000/svg\" xmlns:xlink=\"http://www.w3.org/1999/xlink\">\r\n <metadata>\r\n  <rdf:RDF xmlns:cc=\"http://creativecommons.org/ns#\" xmlns:dc=\"http://purl.org/dc/elements/1.1/\" xmlns:rdf=\"http://www.w3.org/1999/02/22-rdf-syntax-ns#\">\r\n   <cc:Work>\r\n    <dc:type rdf:resource=\"http://purl.org/dc/dcmitype/StillImage\"/>\r\n    <dc:date>2020-11-17T14:17:27.325748</dc:date>\r\n    <dc:format>image/svg+xml</dc:format>\r\n    <dc:creator>\r\n     <cc:Agent>\r\n      <dc:title>Matplotlib v3.3.1, https://matplotlib.org/</dc:title>\r\n     </cc:Agent>\r\n    </dc:creator>\r\n   </cc:Work>\r\n  </rdf:RDF>\r\n </metadata>\r\n <defs>\r\n  <style type=\"text/css\">*{stroke-linecap:butt;stroke-linejoin:round;}</style>\r\n </defs>\r\n <g id=\"figure_1\">\r\n  <g id=\"patch_1\">\r\n   <path d=\"M 0 262.19625 \r\nL 391.874787 262.19625 \r\nL 391.874787 0 \r\nL 0 0 \r\nz\r\n\" style=\"fill:none;\"/>\r\n  </g>\r\n  <g id=\"axes_1\">\r\n   <g id=\"patch_2\">\r\n    <path d=\"M 46.0125 224.64 \r\nL 380.8125 224.64 \r\nL 380.8125 7.2 \r\nL 46.0125 7.2 \r\nz\r\n\" style=\"fill:#ffffff;\"/>\r\n   </g>\r\n   <g id=\"matplotlib.axis_1\">\r\n    <g id=\"xtick_1\">\r\n     <g id=\"line2d_1\">\r\n      <defs>\r\n       <path d=\"M 0 0 \r\nL 0 3.5 \r\n\" id=\"m11f1db0322\" style=\"stroke:#000000;stroke-width:0.8;\"/>\r\n      </defs>\r\n      <g>\r\n       <use style=\"stroke:#000000;stroke-width:0.8;\" x=\"61.230682\" xlink:href=\"#m11f1db0322\" y=\"224.64\"/>\r\n      </g>\r\n     </g>\r\n     <g id=\"text_1\">\r\n      <!-- 2007q1 -->\r\n      <g transform=\"translate(42.150213 239.238438)scale(0.1 -0.1)\">\r\n       <defs>\r\n        <path d=\"M 19.1875 8.296875 \r\nL 53.609375 8.296875 \r\nL 53.609375 0 \r\nL 7.328125 0 \r\nL 7.328125 8.296875 \r\nQ 12.9375 14.109375 22.625 23.890625 \r\nQ 32.328125 33.6875 34.8125 36.53125 \r\nQ 39.546875 41.84375 41.421875 45.53125 \r\nQ 43.3125 49.21875 43.3125 52.78125 \r\nQ 43.3125 58.59375 39.234375 62.25 \r\nQ 35.15625 65.921875 28.609375 65.921875 \r\nQ 23.96875 65.921875 18.8125 64.3125 \r\nQ 13.671875 62.703125 7.8125 59.421875 \r\nL 7.8125 69.390625 \r\nQ 13.765625 71.78125 18.9375 73 \r\nQ 24.125 74.21875 28.421875 74.21875 \r\nQ 39.75 74.21875 46.484375 68.546875 \r\nQ 53.21875 62.890625 53.21875 53.421875 \r\nQ 53.21875 48.921875 51.53125 44.890625 \r\nQ 49.859375 40.875 45.40625 35.40625 \r\nQ 44.1875 33.984375 37.640625 27.21875 \r\nQ 31.109375 20.453125 19.1875 8.296875 \r\nz\r\n\" id=\"DejaVuSans-50\"/>\r\n        <path d=\"M 31.78125 66.40625 \r\nQ 24.171875 66.40625 20.328125 58.90625 \r\nQ 16.5 51.421875 16.5 36.375 \r\nQ 16.5 21.390625 20.328125 13.890625 \r\nQ 24.171875 6.390625 31.78125 6.390625 \r\nQ 39.453125 6.390625 43.28125 13.890625 \r\nQ 47.125 21.390625 47.125 36.375 \r\nQ 47.125 51.421875 43.28125 58.90625 \r\nQ 39.453125 66.40625 31.78125 66.40625 \r\nz\r\nM 31.78125 74.21875 \r\nQ 44.046875 74.21875 50.515625 64.515625 \r\nQ 56.984375 54.828125 56.984375 36.375 \r\nQ 56.984375 17.96875 50.515625 8.265625 \r\nQ 44.046875 -1.421875 31.78125 -1.421875 \r\nQ 19.53125 -1.421875 13.0625 8.265625 \r\nQ 6.59375 17.96875 6.59375 36.375 \r\nQ 6.59375 54.828125 13.0625 64.515625 \r\nQ 19.53125 74.21875 31.78125 74.21875 \r\nz\r\n\" id=\"DejaVuSans-48\"/>\r\n        <path d=\"M 8.203125 72.90625 \r\nL 55.078125 72.90625 \r\nL 55.078125 68.703125 \r\nL 28.609375 0 \r\nL 18.3125 0 \r\nL 43.21875 64.59375 \r\nL 8.203125 64.59375 \r\nz\r\n\" id=\"DejaVuSans-55\"/>\r\n        <path d=\"M 14.796875 27.296875 \r\nQ 14.796875 17.390625 18.875 11.75 \r\nQ 22.953125 6.109375 30.078125 6.109375 \r\nQ 37.203125 6.109375 41.296875 11.75 \r\nQ 45.40625 17.390625 45.40625 27.296875 \r\nQ 45.40625 37.203125 41.296875 42.84375 \r\nQ 37.203125 48.484375 30.078125 48.484375 \r\nQ 22.953125 48.484375 18.875 42.84375 \r\nQ 14.796875 37.203125 14.796875 27.296875 \r\nz\r\nM 45.40625 8.203125 \r\nQ 42.578125 3.328125 38.25 0.953125 \r\nQ 33.9375 -1.421875 27.875 -1.421875 \r\nQ 17.96875 -1.421875 11.734375 6.484375 \r\nQ 5.515625 14.40625 5.515625 27.296875 \r\nQ 5.515625 40.1875 11.734375 48.09375 \r\nQ 17.96875 56 27.875 56 \r\nQ 33.9375 56 38.25 53.625 \r\nQ 42.578125 51.265625 45.40625 46.390625 \r\nL 45.40625 54.6875 \r\nL 54.390625 54.6875 \r\nL 54.390625 -20.796875 \r\nL 45.40625 -20.796875 \r\nz\r\n\" id=\"DejaVuSans-113\"/>\r\n        <path d=\"M 12.40625 8.296875 \r\nL 28.515625 8.296875 \r\nL 28.515625 63.921875 \r\nL 10.984375 60.40625 \r\nL 10.984375 69.390625 \r\nL 28.421875 72.90625 \r\nL 38.28125 72.90625 \r\nL 38.28125 8.296875 \r\nL 54.390625 8.296875 \r\nL 54.390625 0 \r\nL 12.40625 0 \r\nz\r\n\" id=\"DejaVuSans-49\"/>\r\n       </defs>\r\n       <use xlink:href=\"#DejaVuSans-50\"/>\r\n       <use x=\"63.623047\" xlink:href=\"#DejaVuSans-48\"/>\r\n       <use x=\"127.246094\" xlink:href=\"#DejaVuSans-48\"/>\r\n       <use x=\"190.869141\" xlink:href=\"#DejaVuSans-55\"/>\r\n       <use x=\"254.492188\" xlink:href=\"#DejaVuSans-113\"/>\r\n       <use x=\"317.96875\" xlink:href=\"#DejaVuSans-49\"/>\r\n      </g>\r\n     </g>\r\n    </g>\r\n    <g id=\"xtick_2\">\r\n     <g id=\"line2d_2\">\r\n      <g>\r\n       <use style=\"stroke:#000000;stroke-width:0.8;\" x=\"104.711201\" xlink:href=\"#m11f1db0322\" y=\"224.64\"/>\r\n      </g>\r\n     </g>\r\n     <g id=\"text_2\">\r\n      <!-- 2007q3 -->\r\n      <g transform=\"translate(85.630733 239.238438)scale(0.1 -0.1)\">\r\n       <defs>\r\n        <path d=\"M 40.578125 39.3125 \r\nQ 47.65625 37.796875 51.625 33 \r\nQ 55.609375 28.21875 55.609375 21.1875 \r\nQ 55.609375 10.40625 48.1875 4.484375 \r\nQ 40.765625 -1.421875 27.09375 -1.421875 \r\nQ 22.515625 -1.421875 17.65625 -0.515625 \r\nQ 12.796875 0.390625 7.625 2.203125 \r\nL 7.625 11.71875 \r\nQ 11.71875 9.328125 16.59375 8.109375 \r\nQ 21.484375 6.890625 26.8125 6.890625 \r\nQ 36.078125 6.890625 40.9375 10.546875 \r\nQ 45.796875 14.203125 45.796875 21.1875 \r\nQ 45.796875 27.640625 41.28125 31.265625 \r\nQ 36.765625 34.90625 28.71875 34.90625 \r\nL 20.21875 34.90625 \r\nL 20.21875 43.015625 \r\nL 29.109375 43.015625 \r\nQ 36.375 43.015625 40.234375 45.921875 \r\nQ 44.09375 48.828125 44.09375 54.296875 \r\nQ 44.09375 59.90625 40.109375 62.90625 \r\nQ 36.140625 65.921875 28.71875 65.921875 \r\nQ 24.65625 65.921875 20.015625 65.03125 \r\nQ 15.375 64.15625 9.8125 62.3125 \r\nL 9.8125 71.09375 \r\nQ 15.4375 72.65625 20.34375 73.4375 \r\nQ 25.25 74.21875 29.59375 74.21875 \r\nQ 40.828125 74.21875 47.359375 69.109375 \r\nQ 53.90625 64.015625 53.90625 55.328125 \r\nQ 53.90625 49.265625 50.4375 45.09375 \r\nQ 46.96875 40.921875 40.578125 39.3125 \r\nz\r\n\" id=\"DejaVuSans-51\"/>\r\n       </defs>\r\n       <use xlink:href=\"#DejaVuSans-50\"/>\r\n       <use x=\"63.623047\" xlink:href=\"#DejaVuSans-48\"/>\r\n       <use x=\"127.246094\" xlink:href=\"#DejaVuSans-48\"/>\r\n       <use x=\"190.869141\" xlink:href=\"#DejaVuSans-55\"/>\r\n       <use x=\"254.492188\" xlink:href=\"#DejaVuSans-113\"/>\r\n       <use x=\"317.96875\" xlink:href=\"#DejaVuSans-51\"/>\r\n      </g>\r\n     </g>\r\n    </g>\r\n    <g id=\"xtick_3\">\r\n     <g id=\"line2d_3\">\r\n      <g>\r\n       <use style=\"stroke:#000000;stroke-width:0.8;\" x=\"148.191721\" xlink:href=\"#m11f1db0322\" y=\"224.64\"/>\r\n      </g>\r\n     </g>\r\n     <g id=\"text_3\">\r\n      <!-- 2008q1 -->\r\n      <g transform=\"translate(129.111252 239.238438)scale(0.1 -0.1)\">\r\n       <defs>\r\n        <path d=\"M 31.78125 34.625 \r\nQ 24.75 34.625 20.71875 30.859375 \r\nQ 16.703125 27.09375 16.703125 20.515625 \r\nQ 16.703125 13.921875 20.71875 10.15625 \r\nQ 24.75 6.390625 31.78125 6.390625 \r\nQ 38.8125 6.390625 42.859375 10.171875 \r\nQ 46.921875 13.96875 46.921875 20.515625 \r\nQ 46.921875 27.09375 42.890625 30.859375 \r\nQ 38.875 34.625 31.78125 34.625 \r\nz\r\nM 21.921875 38.8125 \r\nQ 15.578125 40.375 12.03125 44.71875 \r\nQ 8.5 49.078125 8.5 55.328125 \r\nQ 8.5 64.0625 14.71875 69.140625 \r\nQ 20.953125 74.21875 31.78125 74.21875 \r\nQ 42.671875 74.21875 48.875 69.140625 \r\nQ 55.078125 64.0625 55.078125 55.328125 \r\nQ 55.078125 49.078125 51.53125 44.71875 \r\nQ 48 40.375 41.703125 38.8125 \r\nQ 48.828125 37.15625 52.796875 32.3125 \r\nQ 56.78125 27.484375 56.78125 20.515625 \r\nQ 56.78125 9.90625 50.3125 4.234375 \r\nQ 43.84375 -1.421875 31.78125 -1.421875 \r\nQ 19.734375 -1.421875 13.25 4.234375 \r\nQ 6.78125 9.90625 6.78125 20.515625 \r\nQ 6.78125 27.484375 10.78125 32.3125 \r\nQ 14.796875 37.15625 21.921875 38.8125 \r\nz\r\nM 18.3125 54.390625 \r\nQ 18.3125 48.734375 21.84375 45.5625 \r\nQ 25.390625 42.390625 31.78125 42.390625 \r\nQ 38.140625 42.390625 41.71875 45.5625 \r\nQ 45.3125 48.734375 45.3125 54.390625 \r\nQ 45.3125 60.0625 41.71875 63.234375 \r\nQ 38.140625 66.40625 31.78125 66.40625 \r\nQ 25.390625 66.40625 21.84375 63.234375 \r\nQ 18.3125 60.0625 18.3125 54.390625 \r\nz\r\n\" id=\"DejaVuSans-56\"/>\r\n       </defs>\r\n       <use xlink:href=\"#DejaVuSans-50\"/>\r\n       <use x=\"63.623047\" xlink:href=\"#DejaVuSans-48\"/>\r\n       <use x=\"127.246094\" xlink:href=\"#DejaVuSans-48\"/>\r\n       <use x=\"190.869141\" xlink:href=\"#DejaVuSans-56\"/>\r\n       <use x=\"254.492188\" xlink:href=\"#DejaVuSans-113\"/>\r\n       <use x=\"317.96875\" xlink:href=\"#DejaVuSans-49\"/>\r\n      </g>\r\n     </g>\r\n    </g>\r\n    <g id=\"xtick_4\">\r\n     <g id=\"line2d_4\">\r\n      <g>\r\n       <use style=\"stroke:#000000;stroke-width:0.8;\" x=\"191.67224\" xlink:href=\"#m11f1db0322\" y=\"224.64\"/>\r\n      </g>\r\n     </g>\r\n     <g id=\"text_4\">\r\n      <!-- 2008q3 -->\r\n      <g transform=\"translate(172.591772 239.238438)scale(0.1 -0.1)\">\r\n       <use xlink:href=\"#DejaVuSans-50\"/>\r\n       <use x=\"63.623047\" xlink:href=\"#DejaVuSans-48\"/>\r\n       <use x=\"127.246094\" xlink:href=\"#DejaVuSans-48\"/>\r\n       <use x=\"190.869141\" xlink:href=\"#DejaVuSans-56\"/>\r\n       <use x=\"254.492188\" xlink:href=\"#DejaVuSans-113\"/>\r\n       <use x=\"317.96875\" xlink:href=\"#DejaVuSans-51\"/>\r\n      </g>\r\n     </g>\r\n    </g>\r\n    <g id=\"xtick_5\">\r\n     <g id=\"line2d_5\">\r\n      <g>\r\n       <use style=\"stroke:#000000;stroke-width:0.8;\" x=\"235.15276\" xlink:href=\"#m11f1db0322\" y=\"224.64\"/>\r\n      </g>\r\n     </g>\r\n     <g id=\"text_5\">\r\n      <!-- 2009q1 -->\r\n      <g transform=\"translate(216.072291 239.238438)scale(0.1 -0.1)\">\r\n       <defs>\r\n        <path d=\"M 10.984375 1.515625 \r\nL 10.984375 10.5 \r\nQ 14.703125 8.734375 18.5 7.8125 \r\nQ 22.3125 6.890625 25.984375 6.890625 \r\nQ 35.75 6.890625 40.890625 13.453125 \r\nQ 46.046875 20.015625 46.78125 33.40625 \r\nQ 43.953125 29.203125 39.59375 26.953125 \r\nQ 35.25 24.703125 29.984375 24.703125 \r\nQ 19.046875 24.703125 12.671875 31.3125 \r\nQ 6.296875 37.9375 6.296875 49.421875 \r\nQ 6.296875 60.640625 12.9375 67.421875 \r\nQ 19.578125 74.21875 30.609375 74.21875 \r\nQ 43.265625 74.21875 49.921875 64.515625 \r\nQ 56.59375 54.828125 56.59375 36.375 \r\nQ 56.59375 19.140625 48.40625 8.859375 \r\nQ 40.234375 -1.421875 26.421875 -1.421875 \r\nQ 22.703125 -1.421875 18.890625 -0.6875 \r\nQ 15.09375 0.046875 10.984375 1.515625 \r\nz\r\nM 30.609375 32.421875 \r\nQ 37.25 32.421875 41.125 36.953125 \r\nQ 45.015625 41.5 45.015625 49.421875 \r\nQ 45.015625 57.28125 41.125 61.84375 \r\nQ 37.25 66.40625 30.609375 66.40625 \r\nQ 23.96875 66.40625 20.09375 61.84375 \r\nQ 16.21875 57.28125 16.21875 49.421875 \r\nQ 16.21875 41.5 20.09375 36.953125 \r\nQ 23.96875 32.421875 30.609375 32.421875 \r\nz\r\n\" id=\"DejaVuSans-57\"/>\r\n       </defs>\r\n       <use xlink:href=\"#DejaVuSans-50\"/>\r\n       <use x=\"63.623047\" xlink:href=\"#DejaVuSans-48\"/>\r\n       <use x=\"127.246094\" xlink:href=\"#DejaVuSans-48\"/>\r\n       <use x=\"190.869141\" xlink:href=\"#DejaVuSans-57\"/>\r\n       <use x=\"254.492188\" xlink:href=\"#DejaVuSans-113\"/>\r\n       <use x=\"317.96875\" xlink:href=\"#DejaVuSans-49\"/>\r\n      </g>\r\n     </g>\r\n    </g>\r\n    <g id=\"xtick_6\">\r\n     <g id=\"line2d_6\">\r\n      <g>\r\n       <use style=\"stroke:#000000;stroke-width:0.8;\" x=\"278.633279\" xlink:href=\"#m11f1db0322\" y=\"224.64\"/>\r\n      </g>\r\n     </g>\r\n     <g id=\"text_6\">\r\n      <!-- 2009q3 -->\r\n      <g transform=\"translate(259.55281 239.238438)scale(0.1 -0.1)\">\r\n       <use xlink:href=\"#DejaVuSans-50\"/>\r\n       <use x=\"63.623047\" xlink:href=\"#DejaVuSans-48\"/>\r\n       <use x=\"127.246094\" xlink:href=\"#DejaVuSans-48\"/>\r\n       <use x=\"190.869141\" xlink:href=\"#DejaVuSans-57\"/>\r\n       <use x=\"254.492188\" xlink:href=\"#DejaVuSans-113\"/>\r\n       <use x=\"317.96875\" xlink:href=\"#DejaVuSans-51\"/>\r\n      </g>\r\n     </g>\r\n    </g>\r\n    <g id=\"xtick_7\">\r\n     <g id=\"line2d_7\">\r\n      <g>\r\n       <use style=\"stroke:#000000;stroke-width:0.8;\" x=\"322.113799\" xlink:href=\"#m11f1db0322\" y=\"224.64\"/>\r\n      </g>\r\n     </g>\r\n     <g id=\"text_7\">\r\n      <!-- 2010q1 -->\r\n      <g transform=\"translate(303.03333 239.238438)scale(0.1 -0.1)\">\r\n       <use xlink:href=\"#DejaVuSans-50\"/>\r\n       <use x=\"63.623047\" xlink:href=\"#DejaVuSans-48\"/>\r\n       <use x=\"127.246094\" xlink:href=\"#DejaVuSans-49\"/>\r\n       <use x=\"190.869141\" xlink:href=\"#DejaVuSans-48\"/>\r\n       <use x=\"254.492188\" xlink:href=\"#DejaVuSans-113\"/>\r\n       <use x=\"317.96875\" xlink:href=\"#DejaVuSans-49\"/>\r\n      </g>\r\n     </g>\r\n    </g>\r\n    <g id=\"xtick_8\">\r\n     <g id=\"line2d_8\">\r\n      <g>\r\n       <use style=\"stroke:#000000;stroke-width:0.8;\" x=\"365.594318\" xlink:href=\"#m11f1db0322\" y=\"224.64\"/>\r\n      </g>\r\n     </g>\r\n     <g id=\"text_8\">\r\n      <!-- 2010q3 -->\r\n      <g transform=\"translate(346.513849 239.238438)scale(0.1 -0.1)\">\r\n       <use xlink:href=\"#DejaVuSans-50\"/>\r\n       <use x=\"63.623047\" xlink:href=\"#DejaVuSans-48\"/>\r\n       <use x=\"127.246094\" xlink:href=\"#DejaVuSans-49\"/>\r\n       <use x=\"190.869141\" xlink:href=\"#DejaVuSans-48\"/>\r\n       <use x=\"254.492188\" xlink:href=\"#DejaVuSans-113\"/>\r\n       <use x=\"317.96875\" xlink:href=\"#DejaVuSans-51\"/>\r\n      </g>\r\n     </g>\r\n    </g>\r\n    <g id=\"text_9\">\r\n     <!-- Quarter -->\r\n     <g transform=\"translate(194.096094 252.916563)scale(0.1 -0.1)\">\r\n      <defs>\r\n       <path d=\"M 39.40625 66.21875 \r\nQ 28.65625 66.21875 22.328125 58.203125 \r\nQ 16.015625 50.203125 16.015625 36.375 \r\nQ 16.015625 22.609375 22.328125 14.59375 \r\nQ 28.65625 6.59375 39.40625 6.59375 \r\nQ 50.140625 6.59375 56.421875 14.59375 \r\nQ 62.703125 22.609375 62.703125 36.375 \r\nQ 62.703125 50.203125 56.421875 58.203125 \r\nQ 50.140625 66.21875 39.40625 66.21875 \r\nz\r\nM 53.21875 1.3125 \r\nL 66.21875 -12.890625 \r\nL 54.296875 -12.890625 \r\nL 43.5 -1.21875 \r\nQ 41.890625 -1.3125 41.03125 -1.359375 \r\nQ 40.1875 -1.421875 39.40625 -1.421875 \r\nQ 24.03125 -1.421875 14.8125 8.859375 \r\nQ 5.609375 19.140625 5.609375 36.375 \r\nQ 5.609375 53.65625 14.8125 63.9375 \r\nQ 24.03125 74.21875 39.40625 74.21875 \r\nQ 54.734375 74.21875 63.90625 63.9375 \r\nQ 73.09375 53.65625 73.09375 36.375 \r\nQ 73.09375 23.6875 67.984375 14.640625 \r\nQ 62.890625 5.609375 53.21875 1.3125 \r\nz\r\n\" id=\"DejaVuSans-81\"/>\r\n       <path d=\"M 8.5 21.578125 \r\nL 8.5 54.6875 \r\nL 17.484375 54.6875 \r\nL 17.484375 21.921875 \r\nQ 17.484375 14.15625 20.5 10.265625 \r\nQ 23.53125 6.390625 29.59375 6.390625 \r\nQ 36.859375 6.390625 41.078125 11.03125 \r\nQ 45.3125 15.671875 45.3125 23.6875 \r\nL 45.3125 54.6875 \r\nL 54.296875 54.6875 \r\nL 54.296875 0 \r\nL 45.3125 0 \r\nL 45.3125 8.40625 \r\nQ 42.046875 3.421875 37.71875 1 \r\nQ 33.40625 -1.421875 27.6875 -1.421875 \r\nQ 18.265625 -1.421875 13.375 4.4375 \r\nQ 8.5 10.296875 8.5 21.578125 \r\nz\r\nM 31.109375 56 \r\nz\r\n\" id=\"DejaVuSans-117\"/>\r\n       <path d=\"M 34.28125 27.484375 \r\nQ 23.390625 27.484375 19.1875 25 \r\nQ 14.984375 22.515625 14.984375 16.5 \r\nQ 14.984375 11.71875 18.140625 8.90625 \r\nQ 21.296875 6.109375 26.703125 6.109375 \r\nQ 34.1875 6.109375 38.703125 11.40625 \r\nQ 43.21875 16.703125 43.21875 25.484375 \r\nL 43.21875 27.484375 \r\nz\r\nM 52.203125 31.203125 \r\nL 52.203125 0 \r\nL 43.21875 0 \r\nL 43.21875 8.296875 \r\nQ 40.140625 3.328125 35.546875 0.953125 \r\nQ 30.953125 -1.421875 24.3125 -1.421875 \r\nQ 15.921875 -1.421875 10.953125 3.296875 \r\nQ 6 8.015625 6 15.921875 \r\nQ 6 25.140625 12.171875 29.828125 \r\nQ 18.359375 34.515625 30.609375 34.515625 \r\nL 43.21875 34.515625 \r\nL 43.21875 35.40625 \r\nQ 43.21875 41.609375 39.140625 45 \r\nQ 35.0625 48.390625 27.6875 48.390625 \r\nQ 23 48.390625 18.546875 47.265625 \r\nQ 14.109375 46.140625 10.015625 43.890625 \r\nL 10.015625 52.203125 \r\nQ 14.9375 54.109375 19.578125 55.046875 \r\nQ 24.21875 56 28.609375 56 \r\nQ 40.484375 56 46.34375 49.84375 \r\nQ 52.203125 43.703125 52.203125 31.203125 \r\nz\r\n\" id=\"DejaVuSans-97\"/>\r\n       <path d=\"M 41.109375 46.296875 \r\nQ 39.59375 47.171875 37.8125 47.578125 \r\nQ 36.03125 48 33.890625 48 \r\nQ 26.265625 48 22.1875 43.046875 \r\nQ 18.109375 38.09375 18.109375 28.8125 \r\nL 18.109375 0 \r\nL 9.078125 0 \r\nL 9.078125 54.6875 \r\nL 18.109375 54.6875 \r\nL 18.109375 46.1875 \r\nQ 20.953125 51.171875 25.484375 53.578125 \r\nQ 30.03125 56 36.53125 56 \r\nQ 37.453125 56 38.578125 55.875 \r\nQ 39.703125 55.765625 41.0625 55.515625 \r\nz\r\n\" id=\"DejaVuSans-114\"/>\r\n       <path d=\"M 18.3125 70.21875 \r\nL 18.3125 54.6875 \r\nL 36.8125 54.6875 \r\nL 36.8125 47.703125 \r\nL 18.3125 47.703125 \r\nL 18.3125 18.015625 \r\nQ 18.3125 11.328125 20.140625 9.421875 \r\nQ 21.96875 7.515625 27.59375 7.515625 \r\nL 36.8125 7.515625 \r\nL 36.8125 0 \r\nL 27.59375 0 \r\nQ 17.1875 0 13.234375 3.875 \r\nQ 9.28125 7.765625 9.28125 18.015625 \r\nL 9.28125 47.703125 \r\nL 2.6875 47.703125 \r\nL 2.6875 54.6875 \r\nL 9.28125 54.6875 \r\nL 9.28125 70.21875 \r\nz\r\n\" id=\"DejaVuSans-116\"/>\r\n       <path d=\"M 56.203125 29.59375 \r\nL 56.203125 25.203125 \r\nL 14.890625 25.203125 \r\nQ 15.484375 15.921875 20.484375 11.0625 \r\nQ 25.484375 6.203125 34.421875 6.203125 \r\nQ 39.59375 6.203125 44.453125 7.46875 \r\nQ 49.3125 8.734375 54.109375 11.28125 \r\nL 54.109375 2.78125 \r\nQ 49.265625 0.734375 44.1875 -0.34375 \r\nQ 39.109375 -1.421875 33.890625 -1.421875 \r\nQ 20.796875 -1.421875 13.15625 6.1875 \r\nQ 5.515625 13.8125 5.515625 26.8125 \r\nQ 5.515625 40.234375 12.765625 48.109375 \r\nQ 20.015625 56 32.328125 56 \r\nQ 43.359375 56 49.78125 48.890625 \r\nQ 56.203125 41.796875 56.203125 29.59375 \r\nz\r\nM 47.21875 32.234375 \r\nQ 47.125 39.59375 43.09375 43.984375 \r\nQ 39.0625 48.390625 32.421875 48.390625 \r\nQ 24.90625 48.390625 20.390625 44.140625 \r\nQ 15.875 39.890625 15.1875 32.171875 \r\nz\r\n\" id=\"DejaVuSans-101\"/>\r\n      </defs>\r\n      <use xlink:href=\"#DejaVuSans-81\"/>\r\n      <use x=\"78.710938\" xlink:href=\"#DejaVuSans-117\"/>\r\n      <use x=\"142.089844\" xlink:href=\"#DejaVuSans-97\"/>\r\n      <use x=\"203.369141\" xlink:href=\"#DejaVuSans-114\"/>\r\n      <use x=\"244.482422\" xlink:href=\"#DejaVuSans-116\"/>\r\n      <use x=\"283.691406\" xlink:href=\"#DejaVuSans-101\"/>\r\n      <use x=\"345.214844\" xlink:href=\"#DejaVuSans-114\"/>\r\n     </g>\r\n    </g>\r\n   </g>\r\n   <g id=\"matplotlib.axis_2\">\r\n    <g id=\"ytick_1\">\r\n     <g id=\"line2d_9\">\r\n      <defs>\r\n       <path d=\"M 0 0 \r\nL -3.5 0 \r\n\" id=\"m46fe605254\" style=\"stroke:#000000;stroke-width:0.8;\"/>\r\n      </defs>\r\n      <g>\r\n       <use style=\"stroke:#000000;stroke-width:0.8;\" x=\"46.0125\" xlink:href=\"#m46fe605254\" y=\"222.716017\"/>\r\n      </g>\r\n     </g>\r\n     <g id=\"text_10\">\r\n      <!-- 14200 -->\r\n      <g transform=\"translate(7.2 226.515236)scale(0.1 -0.1)\">\r\n       <defs>\r\n        <path d=\"M 37.796875 64.3125 \r\nL 12.890625 25.390625 \r\nL 37.796875 25.390625 \r\nz\r\nM 35.203125 72.90625 \r\nL 47.609375 72.90625 \r\nL 47.609375 25.390625 \r\nL 58.015625 25.390625 \r\nL 58.015625 17.1875 \r\nL 47.609375 17.1875 \r\nL 47.609375 0 \r\nL 37.796875 0 \r\nL 37.796875 17.1875 \r\nL 4.890625 17.1875 \r\nL 4.890625 26.703125 \r\nz\r\n\" id=\"DejaVuSans-52\"/>\r\n       </defs>\r\n       <use xlink:href=\"#DejaVuSans-49\"/>\r\n       <use x=\"63.623047\" xlink:href=\"#DejaVuSans-52\"/>\r\n       <use x=\"127.246094\" xlink:href=\"#DejaVuSans-50\"/>\r\n       <use x=\"190.869141\" xlink:href=\"#DejaVuSans-48\"/>\r\n       <use x=\"254.492188\" xlink:href=\"#DejaVuSans-48\"/>\r\n      </g>\r\n     </g>\r\n    </g>\r\n    <g id=\"ytick_2\">\r\n     <g id=\"line2d_10\">\r\n      <g>\r\n       <use style=\"stroke:#000000;stroke-width:0.8;\" x=\"46.0125\" xlink:href=\"#m46fe605254\" y=\"174.766296\"/>\r\n      </g>\r\n     </g>\r\n     <g id=\"text_11\">\r\n      <!-- 14400 -->\r\n      <g transform=\"translate(7.2 178.565515)scale(0.1 -0.1)\">\r\n       <use xlink:href=\"#DejaVuSans-49\"/>\r\n       <use x=\"63.623047\" xlink:href=\"#DejaVuSans-52\"/>\r\n       <use x=\"127.246094\" xlink:href=\"#DejaVuSans-52\"/>\r\n       <use x=\"190.869141\" xlink:href=\"#DejaVuSans-48\"/>\r\n       <use x=\"254.492188\" xlink:href=\"#DejaVuSans-48\"/>\r\n      </g>\r\n     </g>\r\n    </g>\r\n    <g id=\"ytick_3\">\r\n     <g id=\"line2d_11\">\r\n      <g>\r\n       <use style=\"stroke:#000000;stroke-width:0.8;\" x=\"46.0125\" xlink:href=\"#m46fe605254\" y=\"126.816574\"/>\r\n      </g>\r\n     </g>\r\n     <g id=\"text_12\">\r\n      <!-- 14600 -->\r\n      <g transform=\"translate(7.2 130.615793)scale(0.1 -0.1)\">\r\n       <defs>\r\n        <path d=\"M 33.015625 40.375 \r\nQ 26.375 40.375 22.484375 35.828125 \r\nQ 18.609375 31.296875 18.609375 23.390625 \r\nQ 18.609375 15.53125 22.484375 10.953125 \r\nQ 26.375 6.390625 33.015625 6.390625 \r\nQ 39.65625 6.390625 43.53125 10.953125 \r\nQ 47.40625 15.53125 47.40625 23.390625 \r\nQ 47.40625 31.296875 43.53125 35.828125 \r\nQ 39.65625 40.375 33.015625 40.375 \r\nz\r\nM 52.59375 71.296875 \r\nL 52.59375 62.3125 \r\nQ 48.875 64.0625 45.09375 64.984375 \r\nQ 41.3125 65.921875 37.59375 65.921875 \r\nQ 27.828125 65.921875 22.671875 59.328125 \r\nQ 17.53125 52.734375 16.796875 39.40625 \r\nQ 19.671875 43.65625 24.015625 45.921875 \r\nQ 28.375 48.1875 33.59375 48.1875 \r\nQ 44.578125 48.1875 50.953125 41.515625 \r\nQ 57.328125 34.859375 57.328125 23.390625 \r\nQ 57.328125 12.15625 50.6875 5.359375 \r\nQ 44.046875 -1.421875 33.015625 -1.421875 \r\nQ 20.359375 -1.421875 13.671875 8.265625 \r\nQ 6.984375 17.96875 6.984375 36.375 \r\nQ 6.984375 53.65625 15.1875 63.9375 \r\nQ 23.390625 74.21875 37.203125 74.21875 \r\nQ 40.921875 74.21875 44.703125 73.484375 \r\nQ 48.484375 72.75 52.59375 71.296875 \r\nz\r\n\" id=\"DejaVuSans-54\"/>\r\n       </defs>\r\n       <use xlink:href=\"#DejaVuSans-49\"/>\r\n       <use x=\"63.623047\" xlink:href=\"#DejaVuSans-52\"/>\r\n       <use x=\"127.246094\" xlink:href=\"#DejaVuSans-54\"/>\r\n       <use x=\"190.869141\" xlink:href=\"#DejaVuSans-48\"/>\r\n       <use x=\"254.492188\" xlink:href=\"#DejaVuSans-48\"/>\r\n      </g>\r\n     </g>\r\n    </g>\r\n    <g id=\"ytick_4\">\r\n     <g id=\"line2d_12\">\r\n      <g>\r\n       <use style=\"stroke:#000000;stroke-width:0.8;\" x=\"46.0125\" xlink:href=\"#m46fe605254\" y=\"78.866853\"/>\r\n      </g>\r\n     </g>\r\n     <g id=\"text_13\">\r\n      <!-- 14800 -->\r\n      <g transform=\"translate(7.2 82.666071)scale(0.1 -0.1)\">\r\n       <use xlink:href=\"#DejaVuSans-49\"/>\r\n       <use x=\"63.623047\" xlink:href=\"#DejaVuSans-52\"/>\r\n       <use x=\"127.246094\" xlink:href=\"#DejaVuSans-56\"/>\r\n       <use x=\"190.869141\" xlink:href=\"#DejaVuSans-48\"/>\r\n       <use x=\"254.492188\" xlink:href=\"#DejaVuSans-48\"/>\r\n      </g>\r\n     </g>\r\n    </g>\r\n    <g id=\"ytick_5\">\r\n     <g id=\"line2d_13\">\r\n      <g>\r\n       <use style=\"stroke:#000000;stroke-width:0.8;\" x=\"46.0125\" xlink:href=\"#m46fe605254\" y=\"30.917131\"/>\r\n      </g>\r\n     </g>\r\n     <g id=\"text_14\">\r\n      <!-- 15000 -->\r\n      <g transform=\"translate(7.2 34.71635)scale(0.1 -0.1)\">\r\n       <defs>\r\n        <path d=\"M 10.796875 72.90625 \r\nL 49.515625 72.90625 \r\nL 49.515625 64.59375 \r\nL 19.828125 64.59375 \r\nL 19.828125 46.734375 \r\nQ 21.96875 47.46875 24.109375 47.828125 \r\nQ 26.265625 48.1875 28.421875 48.1875 \r\nQ 40.625 48.1875 47.75 41.5 \r\nQ 54.890625 34.8125 54.890625 23.390625 \r\nQ 54.890625 11.625 47.5625 5.09375 \r\nQ 40.234375 -1.421875 26.90625 -1.421875 \r\nQ 22.3125 -1.421875 17.546875 -0.640625 \r\nQ 12.796875 0.140625 7.71875 1.703125 \r\nL 7.71875 11.625 \r\nQ 12.109375 9.234375 16.796875 8.0625 \r\nQ 21.484375 6.890625 26.703125 6.890625 \r\nQ 35.15625 6.890625 40.078125 11.328125 \r\nQ 45.015625 15.765625 45.015625 23.390625 \r\nQ 45.015625 31 40.078125 35.4375 \r\nQ 35.15625 39.890625 26.703125 39.890625 \r\nQ 22.75 39.890625 18.8125 39.015625 \r\nQ 14.890625 38.140625 10.796875 36.28125 \r\nz\r\n\" id=\"DejaVuSans-53\"/>\r\n       </defs>\r\n       <use xlink:href=\"#DejaVuSans-49\"/>\r\n       <use x=\"63.623047\" xlink:href=\"#DejaVuSans-53\"/>\r\n       <use x=\"127.246094\" xlink:href=\"#DejaVuSans-48\"/>\r\n       <use x=\"190.869141\" xlink:href=\"#DejaVuSans-48\"/>\r\n       <use x=\"254.492188\" xlink:href=\"#DejaVuSans-48\"/>\r\n      </g>\r\n     </g>\r\n    </g>\r\n   </g>\r\n   <g id=\"line2d_14\">\r\n    <path clip-path=\"url(#p63693d2cd4)\" d=\"M 61.230682 214.756364 \r\nL 82.970942 169.419902 \r\nL 104.711201 134.080957 \r\nL 126.451461 106.366018 \r\nL 148.191721 110.417769 \r\nL 169.931981 75.750121 \r\nL 191.67224 68.557662 \r\nL 213.4125 138.827979 \r\nL 235.15276 178.626248 \r\nL 256.893019 189.055313 \r\nL 278.633279 178.578299 \r\nL 300.373539 134.848153 \r\nL 322.113799 107.372962 \r\nL 343.854058 57.625126 \r\nL 365.594318 17.083636 \r\n\" style=\"fill:none;stroke:#1f77b4;stroke-linecap:square;stroke-width:1.5;\"/>\r\n   </g>\r\n   <g id=\"patch_3\">\r\n    <path d=\"M 46.0125 224.64 \r\nL 46.0125 7.2 \r\n\" style=\"fill:none;stroke:#000000;stroke-linecap:square;stroke-linejoin:miter;stroke-width:0.8;\"/>\r\n   </g>\r\n   <g id=\"patch_4\">\r\n    <path d=\"M 380.8125 224.64 \r\nL 380.8125 7.2 \r\n\" style=\"fill:none;stroke:#000000;stroke-linecap:square;stroke-linejoin:miter;stroke-width:0.8;\"/>\r\n   </g>\r\n   <g id=\"patch_5\">\r\n    <path d=\"M 46.0125 224.64 \r\nL 380.8125 224.64 \r\n\" style=\"fill:none;stroke:#000000;stroke-linecap:square;stroke-linejoin:miter;stroke-width:0.8;\"/>\r\n   </g>\r\n   <g id=\"patch_6\">\r\n    <path d=\"M 46.0125 7.2 \r\nL 380.8125 7.2 \r\n\" style=\"fill:none;stroke:#000000;stroke-linecap:square;stroke-linejoin:miter;stroke-width:0.8;\"/>\r\n   </g>\r\n   <g id=\"legend_1\">\r\n    <g id=\"patch_7\">\r\n     <path d=\"M 53.0125 29.878125 \r\nL 106.490625 29.878125 \r\nQ 108.490625 29.878125 108.490625 27.878125 \r\nL 108.490625 14.2 \r\nQ 108.490625 12.2 106.490625 12.2 \r\nL 53.0125 12.2 \r\nQ 51.0125 12.2 51.0125 14.2 \r\nL 51.0125 27.878125 \r\nQ 51.0125 29.878125 53.0125 29.878125 \r\nz\r\n\" style=\"fill:#ffffff;opacity:0.8;stroke:#cccccc;stroke-linejoin:miter;\"/>\r\n    </g>\r\n    <g id=\"line2d_15\">\r\n     <path d=\"M 55.0125 20.298438 \r\nL 75.0125 20.298438 \r\n\" style=\"fill:none;stroke:#1f77b4;stroke-linecap:square;stroke-width:1.5;\"/>\r\n    </g>\r\n    <g id=\"line2d_16\"/>\r\n    <g id=\"text_15\">\r\n     <!-- GDP -->\r\n     <g transform=\"translate(83.0125 23.798438)scale(0.1 -0.1)\">\r\n      <defs>\r\n       <path d=\"M 59.515625 10.40625 \r\nL 59.515625 29.984375 \r\nL 43.40625 29.984375 \r\nL 43.40625 38.09375 \r\nL 69.28125 38.09375 \r\nL 69.28125 6.78125 \r\nQ 63.578125 2.734375 56.6875 0.65625 \r\nQ 49.8125 -1.421875 42 -1.421875 \r\nQ 24.90625 -1.421875 15.25 8.5625 \r\nQ 5.609375 18.5625 5.609375 36.375 \r\nQ 5.609375 54.25 15.25 64.234375 \r\nQ 24.90625 74.21875 42 74.21875 \r\nQ 49.125 74.21875 55.546875 72.453125 \r\nQ 61.96875 70.703125 67.390625 67.28125 \r\nL 67.390625 56.78125 \r\nQ 61.921875 61.421875 55.765625 63.765625 \r\nQ 49.609375 66.109375 42.828125 66.109375 \r\nQ 29.4375 66.109375 22.71875 58.640625 \r\nQ 16.015625 51.171875 16.015625 36.375 \r\nQ 16.015625 21.625 22.71875 14.15625 \r\nQ 29.4375 6.6875 42.828125 6.6875 \r\nQ 48.046875 6.6875 52.140625 7.59375 \r\nQ 56.25 8.5 59.515625 10.40625 \r\nz\r\n\" id=\"DejaVuSans-71\"/>\r\n       <path d=\"M 19.671875 64.796875 \r\nL 19.671875 8.109375 \r\nL 31.59375 8.109375 \r\nQ 46.6875 8.109375 53.6875 14.9375 \r\nQ 60.6875 21.78125 60.6875 36.53125 \r\nQ 60.6875 51.171875 53.6875 57.984375 \r\nQ 46.6875 64.796875 31.59375 64.796875 \r\nz\r\nM 9.8125 72.90625 \r\nL 30.078125 72.90625 \r\nQ 51.265625 72.90625 61.171875 64.09375 \r\nQ 71.09375 55.28125 71.09375 36.53125 \r\nQ 71.09375 17.671875 61.125 8.828125 \r\nQ 51.171875 0 30.078125 0 \r\nL 9.8125 0 \r\nz\r\n\" id=\"DejaVuSans-68\"/>\r\n       <path d=\"M 19.671875 64.796875 \r\nL 19.671875 37.40625 \r\nL 32.078125 37.40625 \r\nQ 38.96875 37.40625 42.71875 40.96875 \r\nQ 46.484375 44.53125 46.484375 51.125 \r\nQ 46.484375 57.671875 42.71875 61.234375 \r\nQ 38.96875 64.796875 32.078125 64.796875 \r\nz\r\nM 9.8125 72.90625 \r\nL 32.078125 72.90625 \r\nQ 44.34375 72.90625 50.609375 67.359375 \r\nQ 56.890625 61.8125 56.890625 51.125 \r\nQ 56.890625 40.328125 50.609375 34.8125 \r\nQ 44.34375 29.296875 32.078125 29.296875 \r\nL 19.671875 29.296875 \r\nL 19.671875 0 \r\nL 9.8125 0 \r\nz\r\n\" id=\"DejaVuSans-80\"/>\r\n      </defs>\r\n      <use xlink:href=\"#DejaVuSans-71\"/>\r\n      <use x=\"77.490234\" xlink:href=\"#DejaVuSans-68\"/>\r\n      <use x=\"154.492188\" xlink:href=\"#DejaVuSans-80\"/>\r\n     </g>\r\n    </g>\r\n   </g>\r\n  </g>\r\n </g>\r\n <defs>\r\n  <clipPath id=\"p63693d2cd4\">\r\n   <rect height=\"217.44\" width=\"334.8\" x=\"46.0125\" y=\"7.2\"/>\r\n  </clipPath>\r\n </defs>\r\n</svg>\r\n",
      "image/png": "[encoded data removed]"
     },
     "metadata": {
      "needs_background": "light"
     }
    }
   ],
   "source": [
    "import matplotlib as plt\n",
    "%matplotlib inline\n",
    "\n",
    "linegraph = GDP[(GDP['Quarter']>= '2007q1') & (GDP['Quarter']<= '2010q3')]\n",
    "linegraph.plot(x='Quarter', y='GDP')\n"
   ]
  },
  {
   "cell_type": "code",
   "execution_count": 7,
   "metadata": {},
   "outputs": [],
   "source": [
    "# Use this dictionary to map state names to two letter acronyms\n",
    "states = {'OH': 'Ohio', 'KY': 'Kentucky', 'AS': 'American Samoa', 'NV': 'Nevada', 'WY': 'Wyoming', 'NA': 'National', 'AL': 'Alabama', 'MD': 'Maryland', 'AK': 'Alaska', 'UT': 'Utah', 'OR': 'Oregon', 'MT': 'Montana', 'IL': 'Illinois', 'TN': 'Tennessee', 'DC': 'District of Columbia', 'VT': 'Vermont', 'ID': 'Idaho', 'AR': 'Arkansas', 'ME': 'Maine', 'WA': 'Washington', 'HI': 'Hawaii', 'WI': 'Wisconsin', 'MI': 'Michigan', 'IN': 'Indiana', 'NJ': 'New Jersey', 'AZ': 'Arizona', 'GU': 'Guam', 'MS': 'Mississippi', 'PR': 'Puerto Rico', 'NC': 'North Carolina', 'TX': 'Texas', 'SD': 'South Dakota', 'MP': 'Northern Mariana Islands', 'IA': 'Iowa', 'MO': 'Missouri', 'CT': 'Connecticut', 'WV': 'West Virginia', 'SC': 'South Carolina', 'LA': 'Louisiana', 'KS': 'Kansas', 'NY': 'New York', 'NE': 'Nebraska', 'OK': 'Oklahoma', 'FL': 'Florida', 'CA': 'California', 'CO': 'Colorado', 'PA': 'Pennsylvania', 'DE': 'Delaware', 'NM': 'New Mexico', 'RI': 'Rhode Island', 'MN': 'Minnesota', 'VI': 'Virgin Islands', 'NH': 'New Hampshire', 'MA': 'Massachusetts', 'GA': 'Georgia', 'ND': 'North Dakota', 'VA': 'Virginia'}"
   ]
  },
  {
   "source": [
    "##### 7. Load the data set 'City_Zhvi_AllHomes.csv'"
   ],
   "cell_type": "markdown",
   "metadata": {}
  },
  {
   "cell_type": "code",
   "execution_count": 8,
   "metadata": {},
   "outputs": [
    {
     "output_type": "execute_result",
     "data": {
      "text/plain": [
       "                RegionName State   2000-01   2000-02   2000-03   2000-04  \\\n",
       "0                 New York    NY       NaN       NaN       NaN       NaN   \n",
       "1              Los Angeles    CA  204400.0  207000.0  209800.0  212300.0   \n",
       "2                  Chicago    IL  136800.0  138300.0  140100.0  141900.0   \n",
       "3             Philadelphia    PA   52700.0   53100.0   53200.0   53400.0   \n",
       "4                  Phoenix    AZ  111000.0  111700.0  112800.0  113700.0   \n",
       "...                    ...   ...       ...       ...       ...       ...   \n",
       "10725  Town of Wrightstown    WI  101100.0  101500.0  102700.0  103700.0   \n",
       "10726               Urbana    NY   77600.0   79400.0   80600.0   80200.0   \n",
       "10727          New Denmark    WI  113900.0  114000.0  115800.0  117600.0   \n",
       "10728               Angels    CA  148000.0  151200.0  153800.0  155600.0   \n",
       "10729              Holland    WI  150800.0  151000.0  151300.0  151000.0   \n",
       "\n",
       "        2000-05   2000-06   2000-07   2000-08  ...  2015-11  2015-12  2016-01  \\\n",
       "0           NaN       NaN       NaN       NaN  ...   573600   576200   578400   \n",
       "1      214500.0  216600.0  219000.0  221100.0  ...   558200   560800   562800   \n",
       "2      143700.0  145300.0  146700.0  147900.0  ...   207800   206900   206200   \n",
       "3       53700.0   53800.0   53800.0   54100.0  ...   122300   121600   121800   \n",
       "4      114300.0  115100.0  115600.0  115900.0  ...   183800   185300   186600   \n",
       "...         ...       ...       ...       ...  ...      ...      ...      ...   \n",
       "10725  105200.0  107300.0  110000.0  111800.0  ...   149900   150100   150300   \n",
       "10726   81000.0   83800.0   88700.0   92400.0  ...   135700   136400   137700   \n",
       "10727  119100.0  121100.0  123900.0  126200.0  ...   188700   189800   190800   \n",
       "10728  156000.0  156100.0  156900.0  157700.0  ...   280400   279600   278000   \n",
       "10729  150200.0  150300.0  151900.0  153500.0  ...   217800   219400   221100   \n",
       "\n",
       "       2016-02  2016-03  2016-04  2016-05  2016-06  2016-07  2016-08  \n",
       "0       582200   588000   592200   592500   590200   588000   586400  \n",
       "1       565600   569700   574000   577800   580600   583000   585100  \n",
       "2       205800   206200   207300   208200   209100   211000   213000  \n",
       "3       123300   125200   126400   127000   127400   128300   129100  \n",
       "4       188000   189100   190200   191300   192800   194500   195900  \n",
       "...        ...      ...      ...      ...      ...      ...      ...  \n",
       "10725   150000   149200   149900   151400   152500   154100   155900  \n",
       "10726   138700   140500   143600   145000   144000   143000   143000  \n",
       "10727   191200   191200   191700   192800   194000   196300   198900  \n",
       "10728   276600   275000   273700   272000   269100   269000   270900  \n",
       "10729   222000   222800   224900   228000   231200   233900   236000  \n",
       "\n",
       "[10730 rows x 202 columns]"
      ],
      "text/html": "<div>\n<style scoped>\n    .dataframe tbody tr th:only-of-type {\n        vertical-align: middle;\n    }\n\n    .dataframe tbody tr th {\n        vertical-align: top;\n    }\n\n    .dataframe thead th {\n        text-align: right;\n    }\n</style>\n<table border=\"1\" class=\"dataframe\">\n  <thead>\n    <tr style=\"text-align: right;\">\n      <th></th>\n      <th>RegionName</th>\n      <th>State</th>\n      <th>2000-01</th>\n      <th>2000-02</th>\n      <th>2000-03</th>\n      <th>2000-04</th>\n      <th>2000-05</th>\n      <th>2000-06</th>\n      <th>2000-07</th>\n      <th>2000-08</th>\n      <th>...</th>\n      <th>2015-11</th>\n      <th>2015-12</th>\n      <th>2016-01</th>\n      <th>2016-02</th>\n      <th>2016-03</th>\n      <th>2016-04</th>\n      <th>2016-05</th>\n      <th>2016-06</th>\n      <th>2016-07</th>\n      <th>2016-08</th>\n    </tr>\n  </thead>\n  <tbody>\n    <tr>\n      <th>0</th>\n      <td>New York</td>\n      <td>NY</td>\n      <td>NaN</td>\n      <td>NaN</td>\n      <td>NaN</td>\n      <td>NaN</td>\n      <td>NaN</td>\n      <td>NaN</td>\n      <td>NaN</td>\n      <td>NaN</td>\n      <td>...</td>\n      <td>573600</td>\n      <td>576200</td>\n      <td>578400</td>\n      <td>582200</td>\n      <td>588000</td>\n      <td>592200</td>\n      <td>592500</td>\n      <td>590200</td>\n      <td>588000</td>\n      <td>586400</td>\n    </tr>\n    <tr>\n      <th>1</th>\n      <td>Los Angeles</td>\n      <td>CA</td>\n      <td>204400.0</td>\n      <td>207000.0</td>\n      <td>209800.0</td>\n      <td>212300.0</td>\n      <td>214500.0</td>\n      <td>216600.0</td>\n      <td>219000.0</td>\n      <td>221100.0</td>\n      <td>...</td>\n      <td>558200</td>\n      <td>560800</td>\n      <td>562800</td>\n      <td>565600</td>\n      <td>569700</td>\n      <td>574000</td>\n      <td>577800</td>\n      <td>580600</td>\n      <td>583000</td>\n      <td>585100</td>\n    </tr>\n    <tr>\n      <th>2</th>\n      <td>Chicago</td>\n      <td>IL</td>\n      <td>136800.0</td>\n      <td>138300.0</td>\n      <td>140100.0</td>\n      <td>141900.0</td>\n      <td>143700.0</td>\n      <td>145300.0</td>\n      <td>146700.0</td>\n      <td>147900.0</td>\n      <td>...</td>\n      <td>207800</td>\n      <td>206900</td>\n      <td>206200</td>\n      <td>205800</td>\n      <td>206200</td>\n      <td>207300</td>\n      <td>208200</td>\n      <td>209100</td>\n      <td>211000</td>\n      <td>213000</td>\n    </tr>\n    <tr>\n      <th>3</th>\n      <td>Philadelphia</td>\n      <td>PA</td>\n      <td>52700.0</td>\n      <td>53100.0</td>\n      <td>53200.0</td>\n      <td>53400.0</td>\n      <td>53700.0</td>\n      <td>53800.0</td>\n      <td>53800.0</td>\n      <td>54100.0</td>\n      <td>...</td>\n      <td>122300</td>\n      <td>121600</td>\n      <td>121800</td>\n      <td>123300</td>\n      <td>125200</td>\n      <td>126400</td>\n      <td>127000</td>\n      <td>127400</td>\n      <td>128300</td>\n      <td>129100</td>\n    </tr>\n    <tr>\n      <th>4</th>\n      <td>Phoenix</td>\n      <td>AZ</td>\n      <td>111000.0</td>\n      <td>111700.0</td>\n      <td>112800.0</td>\n      <td>113700.0</td>\n      <td>114300.0</td>\n      <td>115100.0</td>\n      <td>115600.0</td>\n      <td>115900.0</td>\n      <td>...</td>\n      <td>183800</td>\n      <td>185300</td>\n      <td>186600</td>\n      <td>188000</td>\n      <td>189100</td>\n      <td>190200</td>\n      <td>191300</td>\n      <td>192800</td>\n      <td>194500</td>\n      <td>195900</td>\n    </tr>\n    <tr>\n      <th>...</th>\n      <td>...</td>\n      <td>...</td>\n      <td>...</td>\n      <td>...</td>\n      <td>...</td>\n      <td>...</td>\n      <td>...</td>\n      <td>...</td>\n      <td>...</td>\n      <td>...</td>\n      <td>...</td>\n      <td>...</td>\n      <td>...</td>\n      <td>...</td>\n      <td>...</td>\n      <td>...</td>\n      <td>...</td>\n      <td>...</td>\n      <td>...</td>\n      <td>...</td>\n      <td>...</td>\n    </tr>\n    <tr>\n      <th>10725</th>\n      <td>Town of Wrightstown</td>\n      <td>WI</td>\n      <td>101100.0</td>\n      <td>101500.0</td>\n      <td>102700.0</td>\n      <td>103700.0</td>\n      <td>105200.0</td>\n      <td>107300.0</td>\n      <td>110000.0</td>\n      <td>111800.0</td>\n      <td>...</td>\n      <td>149900</td>\n      <td>150100</td>\n      <td>150300</td>\n      <td>150000</td>\n      <td>149200</td>\n      <td>149900</td>\n      <td>151400</td>\n      <td>152500</td>\n      <td>154100</td>\n      <td>155900</td>\n    </tr>\n    <tr>\n      <th>10726</th>\n      <td>Urbana</td>\n      <td>NY</td>\n      <td>77600.0</td>\n      <td>79400.0</td>\n      <td>80600.0</td>\n      <td>80200.0</td>\n      <td>81000.0</td>\n      <td>83800.0</td>\n      <td>88700.0</td>\n      <td>92400.0</td>\n      <td>...</td>\n      <td>135700</td>\n      <td>136400</td>\n      <td>137700</td>\n      <td>138700</td>\n      <td>140500</td>\n      <td>143600</td>\n      <td>145000</td>\n      <td>144000</td>\n      <td>143000</td>\n      <td>143000</td>\n    </tr>\n    <tr>\n      <th>10727</th>\n      <td>New Denmark</td>\n      <td>WI</td>\n      <td>113900.0</td>\n      <td>114000.0</td>\n      <td>115800.0</td>\n      <td>117600.0</td>\n      <td>119100.0</td>\n      <td>121100.0</td>\n      <td>123900.0</td>\n      <td>126200.0</td>\n      <td>...</td>\n      <td>188700</td>\n      <td>189800</td>\n      <td>190800</td>\n      <td>191200</td>\n      <td>191200</td>\n      <td>191700</td>\n      <td>192800</td>\n      <td>194000</td>\n      <td>196300</td>\n      <td>198900</td>\n    </tr>\n    <tr>\n      <th>10728</th>\n      <td>Angels</td>\n      <td>CA</td>\n      <td>148000.0</td>\n      <td>151200.0</td>\n      <td>153800.0</td>\n      <td>155600.0</td>\n      <td>156000.0</td>\n      <td>156100.0</td>\n      <td>156900.0</td>\n      <td>157700.0</td>\n      <td>...</td>\n      <td>280400</td>\n      <td>279600</td>\n      <td>278000</td>\n      <td>276600</td>\n      <td>275000</td>\n      <td>273700</td>\n      <td>272000</td>\n      <td>269100</td>\n      <td>269000</td>\n      <td>270900</td>\n    </tr>\n    <tr>\n      <th>10729</th>\n      <td>Holland</td>\n      <td>WI</td>\n      <td>150800.0</td>\n      <td>151000.0</td>\n      <td>151300.0</td>\n      <td>151000.0</td>\n      <td>150200.0</td>\n      <td>150300.0</td>\n      <td>151900.0</td>\n      <td>153500.0</td>\n      <td>...</td>\n      <td>217800</td>\n      <td>219400</td>\n      <td>221100</td>\n      <td>222000</td>\n      <td>222800</td>\n      <td>224900</td>\n      <td>228000</td>\n      <td>231200</td>\n      <td>233900</td>\n      <td>236000</td>\n    </tr>\n  </tbody>\n</table>\n<p>10730 rows × 202 columns</p>\n</div>"
     },
     "metadata": {},
     "execution_count": 8
    }
   ],
   "source": [
    "df = pd.read_csv('City_Zhvi_AllHomes.csv')\n",
    "df = df.drop(df.columns[[0] + list(range(3,51))], axis=1)\n",
    "df"
   ]
  },
  {
   "source": [
    "##### 8. Convert column names to quarters and map 'State' column"
   ],
   "cell_type": "markdown",
   "metadata": {}
  },
  {
   "cell_type": "code",
   "execution_count": 44,
   "metadata": {},
   "outputs": [
    {
     "output_type": "execute_result",
     "data": {
      "text/plain": [
       "                                         2000q1         2000q2         2000q3  \\\n",
       "State        RegionName                                                         \n",
       "New York     New York                       NaN            NaN            NaN   \n",
       "California   Los Angeles          207066.666667  214466.666667  220966.666667   \n",
       "Illinois     Chicago              138400.000000  143633.333333  147866.666667   \n",
       "Pennsylvania Philadelphia          53000.000000   53633.333333   54133.333333   \n",
       "Arizona      Phoenix              111833.333333  114366.666667  116000.000000   \n",
       "...                                         ...            ...            ...   \n",
       "Wisconsin    Town of Wrightstown  101766.666667  105400.000000  111366.666667   \n",
       "New York     Urbana                79200.000000   81666.666667   91700.000000   \n",
       "Wisconsin    New Denmark          114566.666667  119266.666667  126066.666667   \n",
       "California   Angels               151000.000000  155900.000000  158100.000000   \n",
       "Wisconsin    Holland              151033.333333  150500.000000  153233.333333   \n",
       "\n",
       "                                         2000q4         2001q1         2001q2  \\\n",
       "State        RegionName                                                         \n",
       "New York     New York                       NaN            NaN            NaN   \n",
       "California   Los Angeles          226166.666667  233000.000000  239100.000000   \n",
       "Illinois     Chicago              152133.333333  156933.333333  161800.000000   \n",
       "Pennsylvania Philadelphia          54700.000000   55333.333333   55533.333333   \n",
       "Arizona      Phoenix              117400.000000  119600.000000  121566.666667   \n",
       "...                                         ...            ...            ...   \n",
       "Wisconsin    Town of Wrightstown  114866.666667  125966.666667  129900.000000   \n",
       "New York     Urbana                98366.666667   94866.666667   98533.333333   \n",
       "Wisconsin    New Denmark          131966.666667  143800.000000  146966.666667   \n",
       "California   Angels               167466.666667  176833.333333  183766.666667   \n",
       "Wisconsin    Holland              155833.333333  161866.666667  165733.333333   \n",
       "\n",
       "                                         2001q3         2001q4         2002q1  \\\n",
       "State        RegionName                                                         \n",
       "New York     New York                       NaN            NaN            NaN   \n",
       "California   Los Angeles          245066.666667  253033.333333  261966.666667   \n",
       "Illinois     Chicago              166400.000000  170433.333333  175500.000000   \n",
       "Pennsylvania Philadelphia          56266.666667   57533.333333   59133.333333   \n",
       "Arizona      Phoenix              122700.000000  124300.000000  126533.333333   \n",
       "...                                         ...            ...            ...   \n",
       "Wisconsin    Town of Wrightstown  129900.000000  129433.333333  131900.000000   \n",
       "New York     Urbana               102966.666667   98033.333333   93966.666667   \n",
       "Wisconsin    New Denmark          148366.666667  149166.666667  153133.333333   \n",
       "California   Angels               190233.333333  184566.666667  184033.333333   \n",
       "Wisconsin    Holland              168033.333333  167400.000000  165766.666667   \n",
       "\n",
       "                                         2002q2  ...         2014q2  \\\n",
       "State        RegionName                          ...                  \n",
       "New York     New York                       NaN  ...  515466.666667   \n",
       "California   Los Angeles          272700.000000  ...  498033.333333   \n",
       "Illinois     Chicago              177566.666667  ...  192633.333333   \n",
       "Pennsylvania Philadelphia          60733.333333  ...  113733.333333   \n",
       "Arizona      Phoenix              128366.666667  ...  164266.666667   \n",
       "...                                         ...  ...            ...   \n",
       "Wisconsin    Town of Wrightstown  134200.000000  ...  144866.666667   \n",
       "New York     Urbana                94600.000000  ...  132133.333333   \n",
       "Wisconsin    New Denmark          156733.333333  ...  174566.666667   \n",
       "California   Angels               186133.333333  ...  244466.666667   \n",
       "Wisconsin    Holland              161966.666667  ...  201266.666667   \n",
       "\n",
       "                                         2014q3         2014q4         2015q1  \\\n",
       "State        RegionName                                                         \n",
       "New York     New York             522800.000000  528066.666667  532266.666667   \n",
       "California   Los Angeles          509066.666667  518866.666667  528800.000000   \n",
       "Illinois     Chicago              195766.666667  201266.666667  201066.666667   \n",
       "Pennsylvania Philadelphia         115300.000000  115666.666667  116200.000000   \n",
       "Arizona      Phoenix              165366.666667  168500.000000  171533.333333   \n",
       "...                                         ...            ...            ...   \n",
       "Wisconsin    Town of Wrightstown  146866.666667  149233.333333  148666.666667   \n",
       "New York     Urbana               137033.333333  140066.666667  141700.000000   \n",
       "Wisconsin    New Denmark          181166.666667  186166.666667  187600.000000   \n",
       "California   Angels               254066.666667  259933.333333  260100.000000   \n",
       "Wisconsin    Holland              201566.666667  201266.666667  206000.000000   \n",
       "\n",
       "                                         2015q2         2015q3         2015q4  \\\n",
       "State        RegionName                                                         \n",
       "New York     New York             540800.000000  557200.000000  572833.333333   \n",
       "California   Los Angeles          538166.666667  547266.666667  557733.333333   \n",
       "Illinois     Chicago              206033.333333  208300.000000  207900.000000   \n",
       "Pennsylvania Philadelphia         117966.666667  121233.333333  122200.000000   \n",
       "Arizona      Phoenix              174166.666667  179066.666667  183833.333333   \n",
       "...                                         ...            ...            ...   \n",
       "Wisconsin    Town of Wrightstown  149333.333333  149866.666667  149933.333333   \n",
       "New York     Urbana               137866.666667  136466.666667  136166.666667   \n",
       "Wisconsin    New Denmark          188666.666667  188433.333333  188933.333333   \n",
       "California   Angels               250633.333333  263500.000000  279500.000000   \n",
       "Wisconsin    Holland              207600.000000  212866.666667  217833.333333   \n",
       "\n",
       "                                         2016q1         2016q2    2016q3  \n",
       "State        RegionName                                                   \n",
       "New York     New York             582866.666667  591633.333333  587200.0  \n",
       "California   Los Angeles          566033.333333  577466.666667  584050.0  \n",
       "Illinois     Chicago              206066.666667  208200.000000  212000.0  \n",
       "Pennsylvania Philadelphia         123433.333333  126933.333333  128700.0  \n",
       "Arizona      Phoenix              187900.000000  191433.333333  195200.0  \n",
       "...                                         ...            ...       ...  \n",
       "Wisconsin    Town of Wrightstown  149833.333333  151266.666667  155000.0  \n",
       "New York     Urbana               138966.666667  144200.000000  143000.0  \n",
       "Wisconsin    New Denmark          191066.666667  192833.333333  197600.0  \n",
       "California   Angels               276533.333333  271600.000000  269950.0  \n",
       "Wisconsin    Holland              221966.666667  228033.333333  234950.0  \n",
       "\n",
       "[10730 rows x 67 columns]"
      ],
      "text/html": "<div>\n<style scoped>\n    .dataframe tbody tr th:only-of-type {\n        vertical-align: middle;\n    }\n\n    .dataframe tbody tr th {\n        vertical-align: top;\n    }\n\n    .dataframe thead th {\n        text-align: right;\n    }\n</style>\n<table border=\"1\" class=\"dataframe\">\n  <thead>\n    <tr style=\"text-align: right;\">\n      <th></th>\n      <th></th>\n      <th>2000q1</th>\n      <th>2000q2</th>\n      <th>2000q3</th>\n      <th>2000q4</th>\n      <th>2001q1</th>\n      <th>2001q2</th>\n      <th>2001q3</th>\n      <th>2001q4</th>\n      <th>2002q1</th>\n      <th>2002q2</th>\n      <th>...</th>\n      <th>2014q2</th>\n      <th>2014q3</th>\n      <th>2014q4</th>\n      <th>2015q1</th>\n      <th>2015q2</th>\n      <th>2015q3</th>\n      <th>2015q4</th>\n      <th>2016q1</th>\n      <th>2016q2</th>\n      <th>2016q3</th>\n    </tr>\n    <tr>\n      <th>State</th>\n      <th>RegionName</th>\n      <th></th>\n      <th></th>\n      <th></th>\n      <th></th>\n      <th></th>\n      <th></th>\n      <th></th>\n      <th></th>\n      <th></th>\n      <th></th>\n      <th></th>\n      <th></th>\n      <th></th>\n      <th></th>\n      <th></th>\n      <th></th>\n      <th></th>\n      <th></th>\n      <th></th>\n      <th></th>\n      <th></th>\n    </tr>\n  </thead>\n  <tbody>\n    <tr>\n      <th>New York</th>\n      <th>New York</th>\n      <td>NaN</td>\n      <td>NaN</td>\n      <td>NaN</td>\n      <td>NaN</td>\n      <td>NaN</td>\n      <td>NaN</td>\n      <td>NaN</td>\n      <td>NaN</td>\n      <td>NaN</td>\n      <td>NaN</td>\n      <td>...</td>\n      <td>515466.666667</td>\n      <td>522800.000000</td>\n      <td>528066.666667</td>\n      <td>532266.666667</td>\n      <td>540800.000000</td>\n      <td>557200.000000</td>\n      <td>572833.333333</td>\n      <td>582866.666667</td>\n      <td>591633.333333</td>\n      <td>587200.0</td>\n    </tr>\n    <tr>\n      <th>California</th>\n      <th>Los Angeles</th>\n      <td>207066.666667</td>\n      <td>214466.666667</td>\n      <td>220966.666667</td>\n      <td>226166.666667</td>\n      <td>233000.000000</td>\n      <td>239100.000000</td>\n      <td>245066.666667</td>\n      <td>253033.333333</td>\n      <td>261966.666667</td>\n      <td>272700.000000</td>\n      <td>...</td>\n      <td>498033.333333</td>\n      <td>509066.666667</td>\n      <td>518866.666667</td>\n      <td>528800.000000</td>\n      <td>538166.666667</td>\n      <td>547266.666667</td>\n      <td>557733.333333</td>\n      <td>566033.333333</td>\n      <td>577466.666667</td>\n      <td>584050.0</td>\n    </tr>\n    <tr>\n      <th>Illinois</th>\n      <th>Chicago</th>\n      <td>138400.000000</td>\n      <td>143633.333333</td>\n      <td>147866.666667</td>\n      <td>152133.333333</td>\n      <td>156933.333333</td>\n      <td>161800.000000</td>\n      <td>166400.000000</td>\n      <td>170433.333333</td>\n      <td>175500.000000</td>\n      <td>177566.666667</td>\n      <td>...</td>\n      <td>192633.333333</td>\n      <td>195766.666667</td>\n      <td>201266.666667</td>\n      <td>201066.666667</td>\n      <td>206033.333333</td>\n      <td>208300.000000</td>\n      <td>207900.000000</td>\n      <td>206066.666667</td>\n      <td>208200.000000</td>\n      <td>212000.0</td>\n    </tr>\n    <tr>\n      <th>Pennsylvania</th>\n      <th>Philadelphia</th>\n      <td>53000.000000</td>\n      <td>53633.333333</td>\n      <td>54133.333333</td>\n      <td>54700.000000</td>\n      <td>55333.333333</td>\n      <td>55533.333333</td>\n      <td>56266.666667</td>\n      <td>57533.333333</td>\n      <td>59133.333333</td>\n      <td>60733.333333</td>\n      <td>...</td>\n      <td>113733.333333</td>\n      <td>115300.000000</td>\n      <td>115666.666667</td>\n      <td>116200.000000</td>\n      <td>117966.666667</td>\n      <td>121233.333333</td>\n      <td>122200.000000</td>\n      <td>123433.333333</td>\n      <td>126933.333333</td>\n      <td>128700.0</td>\n    </tr>\n    <tr>\n      <th>Arizona</th>\n      <th>Phoenix</th>\n      <td>111833.333333</td>\n      <td>114366.666667</td>\n      <td>116000.000000</td>\n      <td>117400.000000</td>\n      <td>119600.000000</td>\n      <td>121566.666667</td>\n      <td>122700.000000</td>\n      <td>124300.000000</td>\n      <td>126533.333333</td>\n      <td>128366.666667</td>\n      <td>...</td>\n      <td>164266.666667</td>\n      <td>165366.666667</td>\n      <td>168500.000000</td>\n      <td>171533.333333</td>\n      <td>174166.666667</td>\n      <td>179066.666667</td>\n      <td>183833.333333</td>\n      <td>187900.000000</td>\n      <td>191433.333333</td>\n      <td>195200.0</td>\n    </tr>\n    <tr>\n      <th>...</th>\n      <th>...</th>\n      <td>...</td>\n      <td>...</td>\n      <td>...</td>\n      <td>...</td>\n      <td>...</td>\n      <td>...</td>\n      <td>...</td>\n      <td>...</td>\n      <td>...</td>\n      <td>...</td>\n      <td>...</td>\n      <td>...</td>\n      <td>...</td>\n      <td>...</td>\n      <td>...</td>\n      <td>...</td>\n      <td>...</td>\n      <td>...</td>\n      <td>...</td>\n      <td>...</td>\n      <td>...</td>\n    </tr>\n    <tr>\n      <th>Wisconsin</th>\n      <th>Town of Wrightstown</th>\n      <td>101766.666667</td>\n      <td>105400.000000</td>\n      <td>111366.666667</td>\n      <td>114866.666667</td>\n      <td>125966.666667</td>\n      <td>129900.000000</td>\n      <td>129900.000000</td>\n      <td>129433.333333</td>\n      <td>131900.000000</td>\n      <td>134200.000000</td>\n      <td>...</td>\n      <td>144866.666667</td>\n      <td>146866.666667</td>\n      <td>149233.333333</td>\n      <td>148666.666667</td>\n      <td>149333.333333</td>\n      <td>149866.666667</td>\n      <td>149933.333333</td>\n      <td>149833.333333</td>\n      <td>151266.666667</td>\n      <td>155000.0</td>\n    </tr>\n    <tr>\n      <th>New York</th>\n      <th>Urbana</th>\n      <td>79200.000000</td>\n      <td>81666.666667</td>\n      <td>91700.000000</td>\n      <td>98366.666667</td>\n      <td>94866.666667</td>\n      <td>98533.333333</td>\n      <td>102966.666667</td>\n      <td>98033.333333</td>\n      <td>93966.666667</td>\n      <td>94600.000000</td>\n      <td>...</td>\n      <td>132133.333333</td>\n      <td>137033.333333</td>\n      <td>140066.666667</td>\n      <td>141700.000000</td>\n      <td>137866.666667</td>\n      <td>136466.666667</td>\n      <td>136166.666667</td>\n      <td>138966.666667</td>\n      <td>144200.000000</td>\n      <td>143000.0</td>\n    </tr>\n    <tr>\n      <th>Wisconsin</th>\n      <th>New Denmark</th>\n      <td>114566.666667</td>\n      <td>119266.666667</td>\n      <td>126066.666667</td>\n      <td>131966.666667</td>\n      <td>143800.000000</td>\n      <td>146966.666667</td>\n      <td>148366.666667</td>\n      <td>149166.666667</td>\n      <td>153133.333333</td>\n      <td>156733.333333</td>\n      <td>...</td>\n      <td>174566.666667</td>\n      <td>181166.666667</td>\n      <td>186166.666667</td>\n      <td>187600.000000</td>\n      <td>188666.666667</td>\n      <td>188433.333333</td>\n      <td>188933.333333</td>\n      <td>191066.666667</td>\n      <td>192833.333333</td>\n      <td>197600.0</td>\n    </tr>\n    <tr>\n      <th>California</th>\n      <th>Angels</th>\n      <td>151000.000000</td>\n      <td>155900.000000</td>\n      <td>158100.000000</td>\n      <td>167466.666667</td>\n      <td>176833.333333</td>\n      <td>183766.666667</td>\n      <td>190233.333333</td>\n      <td>184566.666667</td>\n      <td>184033.333333</td>\n      <td>186133.333333</td>\n      <td>...</td>\n      <td>244466.666667</td>\n      <td>254066.666667</td>\n      <td>259933.333333</td>\n      <td>260100.000000</td>\n      <td>250633.333333</td>\n      <td>263500.000000</td>\n      <td>279500.000000</td>\n      <td>276533.333333</td>\n      <td>271600.000000</td>\n      <td>269950.0</td>\n    </tr>\n    <tr>\n      <th>Wisconsin</th>\n      <th>Holland</th>\n      <td>151033.333333</td>\n      <td>150500.000000</td>\n      <td>153233.333333</td>\n      <td>155833.333333</td>\n      <td>161866.666667</td>\n      <td>165733.333333</td>\n      <td>168033.333333</td>\n      <td>167400.000000</td>\n      <td>165766.666667</td>\n      <td>161966.666667</td>\n      <td>...</td>\n      <td>201266.666667</td>\n      <td>201566.666667</td>\n      <td>201266.666667</td>\n      <td>206000.000000</td>\n      <td>207600.000000</td>\n      <td>212866.666667</td>\n      <td>217833.333333</td>\n      <td>221966.666667</td>\n      <td>228033.333333</td>\n      <td>234950.0</td>\n    </tr>\n  </tbody>\n</table>\n<p>10730 rows × 67 columns</p>\n</div>"
     },
     "metadata": {},
     "execution_count": 44
    }
   ],
   "source": [
    "df2 = pd.DataFrame(df[['State', 'RegionName']])\n",
    "    #df2.rename(columns={'RegionName':'TownName'},inplace=True)\n",
    "for year in range(2000, 2016):\n",
    "    df2[str(year) + 'q1'] = df[[str(year) + '-01', str(year) + '-02', str(year) + '-03']].mean(axis = 1)\n",
    "    df2[str(year) + 'q2'] = df[[str(year) + '-04', str(year) + '-05', str(year) + '-06']].mean(axis = 1)\n",
    "    df2[str(year) + 'q3'] = df[[str(year) + '-07', str(year) + '-08', str(year) + '-09']].mean(axis = 1)\n",
    "    df2[str(year) + 'q4'] = df[[str(year) + '-10', str(year) + '-11', str(year) + '-12']].mean(axis = 1)\n",
    "        \n",
    "year = 2016\n",
    "df2[str(year) + 'q1'] = df[[str(year) + '-01', str(year) + '-02', str(year) + '-03']].mean(axis = 1)\n",
    "df2[str(year) + 'q2'] = df[[str(year) + '-04', str(year) + '-05', str(year) + '-06']].mean(axis = 1)\n",
    "df2[str(year) + 'q3'] = df[[str(year) + '-07', str(year) + '-08']].mean(axis = 1)\n",
    "\n",
    "df2['State'] = [states[state] for state in df2['State']]\n",
    "df2 = df2.set_index(['State', 'RegionName'])\n",
    "house_prices = pd.DataFrame(df2)\n",
    "house_prices\n",
    "    "
   ]
  },
  {
   "source": [
    "##### 9. Create new data showing the decline or growth of housing prices between the recession start and the recession bottom"
   ],
   "cell_type": "markdown",
   "metadata": {}
  },
  {
   "cell_type": "code",
   "execution_count": 62,
   "metadata": {},
   "outputs": [
    {
     "output_type": "execute_result",
     "data": {
      "text/plain": [
       "              State           RegionName         2008q2         2009q2  \\\n",
       "0          New York             New York  503933.333333  465833.333333   \n",
       "1        California          Los Angeles  502266.666667  413900.000000   \n",
       "2          Illinois              Chicago  237900.000000  219700.000000   \n",
       "3      Pennsylvania         Philadelphia  118133.333333  116166.666667   \n",
       "4           Arizona              Phoenix  205266.666667  168233.333333   \n",
       "...             ...                  ...            ...            ...   \n",
       "10725     Wisconsin  Town of Wrightstown  149966.666667  144833.333333   \n",
       "10726      New York               Urbana  115900.000000  123433.333333   \n",
       "10727     Wisconsin          New Denmark  173466.666667  178833.333333   \n",
       "10728    California               Angels  328033.333333  282866.666667   \n",
       "10729     Wisconsin              Holland  225100.000000  198200.000000   \n",
       "\n",
       "          Ratio Type  \n",
       "0      0.075605  Non  \n",
       "1      0.175936  Non  \n",
       "2      0.076503  Non  \n",
       "3      0.016648  Non  \n",
       "4      0.180416  Non  \n",
       "...         ...  ...  \n",
       "10725  0.034230  Non  \n",
       "10726 -0.064999  Non  \n",
       "10727 -0.030938  Non  \n",
       "10728  0.137689  Non  \n",
       "10729  0.119502  Non  \n",
       "\n",
       "[10461 rows x 6 columns]"
      ],
      "text/html": "<div>\n<style scoped>\n    .dataframe tbody tr th:only-of-type {\n        vertical-align: middle;\n    }\n\n    .dataframe tbody tr th {\n        vertical-align: top;\n    }\n\n    .dataframe thead th {\n        text-align: right;\n    }\n</style>\n<table border=\"1\" class=\"dataframe\">\n  <thead>\n    <tr style=\"text-align: right;\">\n      <th></th>\n      <th>State</th>\n      <th>RegionName</th>\n      <th>2008q2</th>\n      <th>2009q2</th>\n      <th>Ratio</th>\n      <th>Type</th>\n    </tr>\n  </thead>\n  <tbody>\n    <tr>\n      <th>0</th>\n      <td>New York</td>\n      <td>New York</td>\n      <td>503933.333333</td>\n      <td>465833.333333</td>\n      <td>0.075605</td>\n      <td>Non</td>\n    </tr>\n    <tr>\n      <th>1</th>\n      <td>California</td>\n      <td>Los Angeles</td>\n      <td>502266.666667</td>\n      <td>413900.000000</td>\n      <td>0.175936</td>\n      <td>Non</td>\n    </tr>\n    <tr>\n      <th>2</th>\n      <td>Illinois</td>\n      <td>Chicago</td>\n      <td>237900.000000</td>\n      <td>219700.000000</td>\n      <td>0.076503</td>\n      <td>Non</td>\n    </tr>\n    <tr>\n      <th>3</th>\n      <td>Pennsylvania</td>\n      <td>Philadelphia</td>\n      <td>118133.333333</td>\n      <td>116166.666667</td>\n      <td>0.016648</td>\n      <td>Non</td>\n    </tr>\n    <tr>\n      <th>4</th>\n      <td>Arizona</td>\n      <td>Phoenix</td>\n      <td>205266.666667</td>\n      <td>168233.333333</td>\n      <td>0.180416</td>\n      <td>Non</td>\n    </tr>\n    <tr>\n      <th>...</th>\n      <td>...</td>\n      <td>...</td>\n      <td>...</td>\n      <td>...</td>\n      <td>...</td>\n      <td>...</td>\n    </tr>\n    <tr>\n      <th>10725</th>\n      <td>Wisconsin</td>\n      <td>Town of Wrightstown</td>\n      <td>149966.666667</td>\n      <td>144833.333333</td>\n      <td>0.034230</td>\n      <td>Non</td>\n    </tr>\n    <tr>\n      <th>10726</th>\n      <td>New York</td>\n      <td>Urbana</td>\n      <td>115900.000000</td>\n      <td>123433.333333</td>\n      <td>-0.064999</td>\n      <td>Non</td>\n    </tr>\n    <tr>\n      <th>10727</th>\n      <td>Wisconsin</td>\n      <td>New Denmark</td>\n      <td>173466.666667</td>\n      <td>178833.333333</td>\n      <td>-0.030938</td>\n      <td>Non</td>\n    </tr>\n    <tr>\n      <th>10728</th>\n      <td>California</td>\n      <td>Angels</td>\n      <td>328033.333333</td>\n      <td>282866.666667</td>\n      <td>0.137689</td>\n      <td>Non</td>\n    </tr>\n    <tr>\n      <th>10729</th>\n      <td>Wisconsin</td>\n      <td>Holland</td>\n      <td>225100.000000</td>\n      <td>198200.000000</td>\n      <td>0.119502</td>\n      <td>Non</td>\n    </tr>\n  </tbody>\n</table>\n<p>10461 rows × 6 columns</p>\n</div>"
     },
     "metadata": {},
     "execution_count": 62
    }
   ],
   "source": [
    "#A university town is a city which has a high percentage of university students compared to the total population of the city.\n",
    "\n",
    "bstart = house_prices.columns[house_prices.columns.get_loc(rec_start) - 1]\n",
    "housing = house_prices.loc[:,[bstart,rec_bottom]].reset_index()\n",
    "housing['Ratio'] = (housing[bstart] - housing[rec_bottom]) / housing[bstart]\n",
    "#housing = housing.dropna()\n",
    "\n",
    "university_towns['Type'] = 'Uni'\n",
    "\n",
    "housing = pd.merge(housing, university_towns, how = 'left', on = ['State','RegionName'])\n",
    "housing['Type'] = housing['Type'].fillna('Non')\n",
    "\n",
    "uni = housing[housing['Type'] == 'Uni']\n",
    "non = housing[housing['Type'] == 'Non']\n",
    "\n",
    "non\n"
   ]
  },
  {
   "source": [
    "##### 10. Run a ttest comparing the university town values to the non-university towns values,return whether the alternative hypothesis (that the two groups are the same) is true or not as well as the p-value of the confidence."
   ],
   "cell_type": "markdown",
   "metadata": {}
  },
  {
   "cell_type": "code",
   "execution_count": 65,
   "metadata": {},
   "outputs": [
    {
     "output_type": "execute_result",
     "data": {
      "text/plain": [
       "(True, 0.00336292287685515, 'university town')"
      ]
     },
     "metadata": {},
     "execution_count": 65
    }
   ],
   "source": [
    "''' Return the tuple (different, p, better) where different=True if the t-test is\n",
    "    True at a p<0.01 (we reject the null hypothesis), or different=False if \n",
    "    otherwise (we cannot reject the null hypothesis). The variable p should\n",
    "    be equal to the exact p value returned from scipy.stats.ttest_ind(). The\n",
    "    value for better should be either \"university town\" or \"non-university town\"\n",
    "    depending on which has a lower mean price ratio (which is equivilent to a\n",
    "    reduced market loss).'''\n",
    "\n",
    "# Hypothesis: University towns have their mean housing prices less effected by recessions. Run a t-test to compare the ratio of the mean           price of houses in university towns the quarter before the recession starts compared to the recession bottom.                                    \n",
    "# H0: Groups are the same  &   H1: Groups are different\n",
    "\n",
    "ttest_pval = ttest_ind(uni['Ratio'].dropna(), non['Ratio'].dropna())[1]\n",
    "\n",
    "if ttest_pval < 0.01:  # we reject H0 \n",
    "    different = True\n",
    "else:                  # we accept H0\n",
    "    different = False\n",
    "\n",
    "\n",
    "if uni['Ratio'].mean() > non['Ratio'].mean():  # Lower cost is better\n",
    "    better = \"non-university town\"\n",
    "else:\n",
    "    better = \"university town\"\n",
    "\n",
    "(different, ttest_pval, better)\n",
    "\n"
   ]
  }
 ]
}